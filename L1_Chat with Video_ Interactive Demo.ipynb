{
 "cells": [
  {
   "cell_type": "markdown",
   "id": "48a3a6b6",
   "metadata": {},
   "source": [
    "# Lesson 1: Interactive Demo\n",
    "\n",
    "Welcome to Lesson 1!\n",
    "\n",
    "To access the `requirements.txt`, the `gradio_utils.py`and all needed helpers files for this course, go to `File` and click `Open`.\n"
   ]
  },
  {
   "cell_type": "code",
   "execution_count": 1,
   "id": "1270ad4d-4867-4f68-8cb9-7bc955d2778d",
   "metadata": {
    "height": 30
   },
   "outputs": [],
   "source": [
    "from gradio_utils import get_demo"
   ]
  },
  {
   "cell_type": "markdown",
   "id": "8e70125b",
   "metadata": {},
   "source": [
    "<p style=\"background-color:#fff1d7; padding:15px; \"> <b>Note:</b>\n",
    "Take a minute to review the code in `gradio_utils`. \n",
    "<br>\n",
    "We will cover various components used here in subsequent lessons.\n",
    "</p>"
   ]
  },
  {
   "cell_type": "code",
   "execution_count": 2,
   "id": "f7fdc79b-b763-478a-8115-6ce64e03b897",
   "metadata": {
    "height": 132
   },
   "outputs": [
    {
     "name": "stdout",
     "output_type": "stream",
     "text": [
      "Running on local URL:  https://0.0.0.0:9999\n",
      "\n",
      "To create a public link, set `share=True` in `launch()`.\n"
     ]
    },
    {
     "data": {
      "text/html": [
       "<div><iframe src=\"https://s172-30-96-87p9999.lab-aws-production.deeplearning.ai/\" width=\"100%\" height=\"500\" allow=\"autoplay; camera; microphone; clipboard-read; clipboard-write;\" frameborder=\"0\" allowfullscreen></iframe></div>"
      ],
      "text/plain": [
       "<IPython.core.display.HTML object>"
      ]
     },
     "metadata": {},
     "output_type": "display_data"
    },
    {
     "data": {
      "text/plain": []
     },
     "execution_count": 2,
     "metadata": {},
     "output_type": "execute_result"
    },
    {
     "name": "stdout",
     "output_type": "stream",
     "text": [
      "Moviepy - Building video ./shared_data/splitted_videos/video_tmp.mp4.\n",
      "MoviePy - Writing audio in video_tmpTEMP_MPY_wvf_snd.mp4\n"
     ]
    },
    {
     "name": "stderr",
     "output_type": "stream",
     "text": [
      "                                                        \r"
     ]
    },
    {
     "name": "stdout",
     "output_type": "stream",
     "text": [
      "MoviePy - Done.\n",
      "Moviepy - Writing video ./shared_data/splitted_videos/video_tmp.mp4\n",
      "\n"
     ]
    },
    {
     "name": "stderr",
     "output_type": "stream",
     "text": [
      "                                                               \r"
     ]
    },
    {
     "name": "stdout",
     "output_type": "stream",
     "text": [
      "Moviepy - Done !\n",
      "Moviepy - video ready ./shared_data/splitted_videos/video_tmp.mp4\n"
     ]
    }
   ],
   "source": [
    "#You will need to restart the kernel each time you rerun this cell;\n",
    "#otherwise, the port will not be available.\n",
    "\n",
    "debug = False # change this to True if you want to debug\n",
    "\n",
    "demo = get_demo()\n",
    "demo.launch(server_name=\"0.0.0.0\", server_port=9999, debug=debug)"
   ]
  },
  {
   "cell_type": "markdown",
   "id": "71e736da",
   "metadata": {},
   "source": [
    "<p style=\"background-color:#fff1d7; padding:15px; \"> <b>Note:</b>\n",
    "<br>\n",
    "Here is the YouTube video link used for this demo: https://www.youtube.com/watch?v=7Hcg-rLYwdM\n",
    "</p>\n"
   ]
  },
  {
   "cell_type": "markdown",
   "id": "6aee6e24-ec38-495a-8e37-f544c2c2cc56",
   "metadata": {},
   "source": [
    "To access the `gradio_utils.py`and all needed helpers files for this course, go to `File` and click `Open`."
   ]
  },
  {
   "cell_type": "code",
   "execution_count": null,
   "id": "1ed7c5c5-253c-468e-b70c-97e4c0d29436",
   "metadata": {
    "height": 30
   },
   "outputs": [],
   "source": []
  }
 ],
 "metadata": {
  "kernelspec": {
   "display_name": "Python 3 (ipykernel)",
   "language": "python",
   "name": "python3"
  },
  "language_info": {
   "codemirror_mode": {
    "name": "ipython",
    "version": 3
   },
   "file_extension": ".py",
   "mimetype": "text/x-python",
   "name": "python",
   "nbconvert_exporter": "python",
   "pygments_lexer": "ipython3",
   "version": "3.11.9"
  }
 },
 "nbformat": 4,
 "nbformat_minor": 5
}
